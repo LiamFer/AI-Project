{
 "cells": [
  {
   "cell_type": "code",
   "execution_count": null,
   "metadata": {},
   "outputs": [],
   "source": [
    "from openai import OpenAI\n",
    "from sumy.parsers.plaintext import PlaintextParser\n",
    "from sumy.nlp.tokenizers import Tokenizer\n",
    "from sumy.summarizers.luhn import LuhnSummarizer\n",
    "import whisper\n",
    "import json"
   ]
  },
  {
   "cell_type": "code",
   "execution_count": null,
   "metadata": {},
   "outputs": [],
   "source": [
    "try:\n",
    "    model = whisper.load_model(\"medium\")\n",
    "    result = model.transcribe(r\"audio.mp3\")\n",
    "\n",
    "    with open(r\"content\\test.txt\",\"w\") as file:\n",
    "        file.write(result['text'])\n",
    "        \n",
    "except Exception as error:\n",
    "    print(error)"
   ]
  },
  {
   "cell_type": "code",
   "execution_count": null,
   "metadata": {},
   "outputs": [],
   "source": [
    "# Não deu pra integrar com o GPT porque tem que pagar ;-;\n",
    "# client = OpenAI(api_key = 'api-key')\n",
    "\n",
    "# def get_completion(prompt, model=\"gpt-3.5-turbo\"):\n",
    "#     message = [{\"role\": \"user\", \"content\": prompt}]\n",
    "#     response = client.chat.completions.create(model=model,messages=message)\n",
    "#     return response.choices[0].message[\"content\"]\n",
    "\n",
    "# prompt = f\"Faça um resumo de 20 linhas e corrija todos os � que tem no texto a seguir {result['text']}\"\n",
    "# response = get_completion(prompt)\n",
    "# print(response)"
   ]
  },
  {
   "cell_type": "code",
   "execution_count": null,
   "metadata": {},
   "outputs": [],
   "source": [
    "def add_to_textfile(text_file, text):\n",
    "  text = text.encode('utf-8')\n",
    "  with open(text_file, 'w', encoding='utf-8') as f:\n",
    "    f.write(text.decode('utf-8'))\n",
    "  return text.decode('utf-8')  \n",
    "\n",
    "texto = add_to_textfile(r\"content\\test.txt\",result['text'])\n",
    "print(texto)"
   ]
  },
  {
   "cell_type": "code",
   "execution_count": null,
   "metadata": {},
   "outputs": [],
   "source": [
    "parser = PlaintextParser.from_string(texto,Tokenizer('portuguese'))\n",
    "sumarizer = LuhnSummarizer()\n",
    "summary = sumarizer(parser.document,40)\n",
    "summary"
   ]
  }
 ],
 "metadata": {
  "kernelspec": {
   "display_name": "Python 3",
   "language": "python",
   "name": "python3"
  },
  "language_info": {
   "codemirror_mode": {
    "name": "ipython",
    "version": 3
   },
   "file_extension": ".py",
   "mimetype": "text/x-python",
   "name": "python",
   "nbconvert_exporter": "python",
   "pygments_lexer": "ipython3",
   "version": "3.11.0"
  }
 },
 "nbformat": 4,
 "nbformat_minor": 2
}
