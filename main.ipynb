{
 "cells": [
  {
   "cell_type": "code",
   "execution_count": null,
   "metadata": {},
   "outputs": [],
   "source": [
    "import whisper\n"
   ]
  },
  {
   "cell_type": "code",
   "execution_count": null,
   "metadata": {},
   "outputs": [],
   "source": [
    "try:\n",
    "    model = whisper.load_model(\"medium\")\n",
    "    result = model.transcribe(r\"C:\\Users\\Windows\\Desktop\\Stuff\\Coding\\Data-Visualization\\audio2.opus\")\n",
    "\n",
    "    with open(r\"C:\\Users\\Windows\\Desktop\\Stuff\\Coding\\Data-Visualization\\test.txt\",\"w\") as f:\n",
    "        f.write(result['text'])\n",
    "except Exception as error:\n",
    "    print(error)"
   ]
  }
 ],
 "metadata": {
  "language_info": {
   "name": "python"
  }
 },
 "nbformat": 4,
 "nbformat_minor": 2
}
