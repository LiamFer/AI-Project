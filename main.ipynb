{
 "cells": [
  {
   "cell_type": "code",
   "execution_count": 9,
   "metadata": {},
   "outputs": [],
   "source": [
    "# Melhor alternativa para resumir\n",
    "import whisper\n",
    "from openai import OpenAI\n",
    "\n",
    "from sumy.parsers.plaintext import PlaintextParser\n",
    "from sumy.nlp.tokenizers import Tokenizer\n",
    "from sumy.summarizers.luhn import LuhnSummarizer"
   ]
  },
  {
   "cell_type": "code",
   "execution_count": 2,
   "metadata": {},
   "outputs": [],
   "source": [
    "# Função pra escrever o texto do Whisper em um TXT\n",
    "def add_to_textfile(text_file, text):\n",
    "  text = text.encode('utf-8')\n",
    "  normalized_text = text.decode('utf-8')\n",
    "  \n",
    "  with open(text_file, 'w', encoding='utf-8') as f:\n",
    "    f.write(normalized_text)\n",
    "  return  normalized_text\n",
    "\n",
    "# Função pra consultar o chatGPT\n",
    "def get_completion(prompt:str,api_key:str,model=\"gpt-3.5-turbo\"):\n",
    "  client = OpenAI(api_key = api_key)\n",
    "  message = [{\"role\": \"user\", \"content\": prompt}]\n",
    "  response = client.chat.completions.create(model=model,messages=message)\n",
    "  return response.choices[0].message[\"content\"]"
   ]
  },
  {
   "cell_type": "code",
   "execution_count": 3,
   "metadata": {},
   "outputs": [
    {
     "name": "stderr",
     "output_type": "stream",
     "text": [
      "c:\\Users\\Windows\\AppData\\Local\\Programs\\Python\\Python311\\Lib\\site-packages\\whisper\\transcribe.py:115: UserWarning: FP16 is not supported on CPU; using FP32 instead\n",
      "  warnings.warn(\"FP16 is not supported on CPU; using FP32 instead\")\n"
     ]
    }
   ],
   "source": [
    "try:\n",
    "    model = whisper.load_model(\"medium\")\n",
    "    result = model.transcribe(r\"audio.mp3\")\n",
    "    bulk_text = add_to_textfile(r\"content\\bulktText.txt\",result['text'])\n",
    "except Exception as error:\n",
    "    print(error)"
   ]
  },
  {
   "cell_type": "code",
   "execution_count": 4,
   "metadata": {},
   "outputs": [
    {
     "data": {
      "text/plain": [
       "(<Sentence: Bom, hoje eu queria falar desse assunto que é um caso que está rolando aqui no Japão, a mídia está acompanhando isso daí, não se fala de outra coisa no Japi, o bafafá que só vendo.>,\n",
       " <Sentence: Na verdade, toda essa treta começou no final de agosto, mas foi se desenrolando, foi se desenrolando de uma forma escrota que assim foi, é um bagulho que...>,\n",
       " <Sentence: A gente estava vendo só a pontinha do iceberg lá em agosto e aí o bagulho foi se desenrolando da maneira mais escrota possível e está muito interessante, mano, de acompanhar.>,\n",
       " <Sentence: Então talvez alguns de vocês já tenham até visto falar, porque tudo isso começou no final de agosto quando um japonês foi procurar a polícia lá em Nagoya, Nagoya que é uma das grandes cidades aqui do Japão, acho que é a quarta maior cidade aqui do Japão, inclusive tem muito brasileiro que mora lá, né?>,\n",
       " <Sentence: Porque na região de Aichi lá tem muita fábrica e tal, e aí um japonês foi procurar a polícia lá em Nagoya dizendo que estava preocupado com uma menina chamada Miku que ele tinha conhecido pelo Line, né?>,\n",
       " <Sentence: E aí esse cara falou lá na polícia que ele costumava conversar todo dia pelo Line com essa mina, até que do nada ela parou de responder e alguém mandou uma mensagem do celular dela para ele dizendo que a Miku foi sequestrada, tá ligado?>,\n",
       " <Sentence: Tipo a mina foi sequestrada e aí a pessoa que sequestrou ela mandou uma mensagem pelo celular dela para um cara random que ela nem conhecia pessoalmente avisando, né?>,\n",
       " <Sentence: Então já tava esquisito, mas como se não bastasse, algumas semanas depois desse cara ter aparecido lá na delegacia, outro japonês foi procurar a polícia lá em Nagoya contando exatamente a mesma história.>,\n",
       " <Sentence: Porque não é possível um bagulho desse, então era muito provável que na verdade essa mina, a tal da Miku, estava aplicando golpe nos cabras, né?>,\n",
       " <Sentence: E foi só realmente se aprofundar um pouco no assunto para a polícia descobrir que realmente os dois caras tinham já transferido dinheiro para a mina, porque para os dois ela tinha contado a mesma história que ela estava passando por necessidade, que para conseguir pagar o aluguel ela estava cogitando aceitar a proposta de um conhecido dela, que segundo ela era um cara muito suspeito, um cara muito perigoso, que estava chamando ela para gravar um vídeo porno, tá ligado?>,\n",
       " <Sentence: Os nossos cavalheiros aí transferiram dinheiro para ela e logo depois que transferiram o dinheiro ela enviou essa mensagem aí dizendo que ela tinha sequestrado e bloqueou os caras, né?>,\n",
       " <Sentence: E aí a polícia foi atrás da tal da Miku e acharam ela lá, uma mina de 25 anos, não foi difícil de achar porque os caras tinham o telefone dela, né?>,\n",
       " <Sentence: Ela confessou que estava mesmo aplicando esses golpes, que além desses dois caras ela já tinha conseguido dinheiro de vários outros, sempre com a mesma história e segundo ela, olha só, ela estava fazendo tudo isso seguindo as dicas de uma apostila online que ela tinha comprado alguns meses antes que ensinava como meninas jovens que nem ela podiam arrancar dinheiro de homens velhos e solitários na internet, tá ligado?>,\n",
       " <Sentence: Só que nesse caso da Miku e dessa apostila aí desses golpes que ela estava fazendo, ela nem sequer saía com os caras, né?>,\n",
       " <Sentence: E aí a polícia, lógico, quis dar uma olhada nesse tal manual e aí eles viram lá, realmente tinha todos os passos, inclusive ilustrados de como as mina tinha que agir para conseguir convencer os cabras a dar dinheiro para elas e tal.>,\n",
       " <Sentence: O cara mais chato do mundo, mas ela estava adorando aquilo ali, que não saberia o que seria da vida dela se não tivesse ele para conversar, né?>,\n",
       " <Sentence: Aí o quarto passo seria voltar depois de alguns dias pedindo desculpas por ter sumido e falar que estava com problemas financeiros, que estava com o aluguel atrasado, que vai ter que morar na rua.>,\n",
       " <Sentence: Porque teoricamente, assim, teórica, de acordo com a teoria da apostila do golpe, a mina deveria continuar falando com o cara por um tempo ainda, depois de ter conseguido o dinheiro para não deixar ele nervoso ao ponto dele perceber que era um golpe, tá ligado?>,\n",
       " <Sentence: Teria que dizer para ele que ele tinha salvado a vida dela e continuar conversando por um tempo como se tivesse tudo normal, né?>,\n",
       " <Sentence: E aí eles chegaram até outra mina em Tóquio chamada Mai Watanabe, que além do manual ela fazia vídeos na internet ensinando as minas a aplicar esse tipo de golpe, né?>,\n",
       " <Sentence: Ela vendia cada manual por mais ou menos 10 mil ienes, que seria tipo uns 300 conto, e além disso ela própria aplicava o golpe nos cara para mostrar justamente que o bagulho dava certo, tá ligado?>,\n",
       " <Sentence: Que a polícia foi lá e falou tudo isso que estava acontecendo e vazou o nome da Mai Watanabe, a galera achou um vídeo de um youtuber famoso aqui do Japão entrevistando ela há dois anos atrás.>,\n",
       " <Sentence: Ela teria supostamente implorado para ser entrevistada por esse cara, porque ele é um youtuber famoso, ele tem dois milhão de inscritos aqui no Japão.>,\n",
       " <Sentence: E aí, nesse vídeo aí de dois anos atrás dela sendo entrevistada pelo youtuber, ela disse na época que ela já tinha feito 200 milhões de ienes, que seria o equivalente a dois milhões de dólares, né?>,\n",
       " <Sentence: E aí, quando a polícia chegou nessa mina, já prenderam ela também, já foi para os caralho, porque ela estava aplicando o golpe, vendendo o apostila lá.>,\n",
       " <Sentence: Só que aí mano, olha só que doideira, a polícia achou estranho que apesar dessa mina dizer que fazia milhões de dólares com esse tipo de golpe na internet, ainda vendia as apostilas e tudo mais, ela ainda morava num kitnet todo fodido aqui em Tóquio, tá ligado?>,\n",
       " <Sentence: E mesmo antes disso, já tinha um monte de gente que nem levava a sério esse bagulho de que ela fazia milhões de dólares com esse golpe aí, né?>,\n",
       " <Sentence: A mina realmente fazia dinheiro para caralho, milhões de dólares mesmo com esses golpes aí, só que tudo que ela ganhava todo mês, ela gastava imediatamente.>,\n",
       " <Sentence: O host club, né, que para quem não sabe, é um estabelecimento onde você paga para ter um encontro com uma pessoa do sexo oposto, né?>,\n",
       " <Sentence: E aí aparentemente essa mina, né, a Mai que vendia, as apostilas, ela teria se apaixonado por um desses hosts, né?>,\n",
       " <Sentence: Foi recentemente inclusive o caso de uma mina que se apaixonou pelo host que ela contratava e aí quando ela viu ele atendendo outra mina, ela ficou com ciúmes e esfaqueou ele lá na saída do hotel.>,\n",
       " <Sentence: E aí, puxando o histórico das coisas, a polícia descobriu que na verdade o motivo pelo qual ela começou a aplicar esses golpes pra começo de conversa já foi pra sustentar o vício no host club, tá ligado?>,\n",
       " <Sentence: Então ela já largou o emprego pra começar a dar golpe porque o emprego não tava pagando o suficiente pra ela conseguir bancar o vício dela no cara, entendeu?>,\n",
       " <Sentence: E aí, meu chapa, quando você pensa que a história já não tem como ficar mais escrota, alguns dias depois da prisão da Mai, o tal do host que ela gostava foi preso também.>,\n",
       " <Sentence: Porque a polícia encontrou no celular da mina várias conversas dela com o host e ele incentivando ela a aplicar o golpe nos cabras pra que ela conseguisse dinheiro pra poder sair com ele, tá ligado?>,\n",
       " <Sentence: A última informação que saiu depois da prisão da Mai, que a polícia começou a investigar, acho que foi inclusive agora, começo de novembro, final de outubro que saiu essa notícia, que essa mina, a tal da Mai Watanabe, ela é casada, ela é casada com um cara vietnamita, do nada.>,\n",
       " <Sentence: Essa mina, a Mai, ela provavelmente fez isso, ela casou com um vietnamita, provavelmente cobrou uma boa grana dele pra casar e dar o visto pra ele, e essa grana ela muito provavelmente gastou no host club, tá ligado?>,\n",
       " <Sentence: Mas enfim, reflitam sobre essa brisa, e se o bagulho continuar, vai saber como é que vai se desdobrar esse caso ainda.>,\n",
       " <Sentence: No momento, já tem a tal da Miko, lá em Nagoya foi presa porque comprou o manual da mina e saiu aplicando nos caras lá o golpe.>,\n",
       " <Sentence: Depois, a Mai já foi presa por vender o bagulho e aplicar o golpe também, e o host que a Mai era apaixonado, já são tipo os personagens da novela, tá ligado?>)"
      ]
     },
     "execution_count": 4,
     "metadata": {},
     "output_type": "execute_result"
    }
   ],
   "source": [
    "# Criando um Resumo do Texto\n",
    "\n",
    "parser = PlaintextParser.from_string(bulk_text,Tokenizer('portuguese'))\n",
    "sumarizer = LuhnSummarizer()\n",
    "summary = sumarizer(parser.document,40)\n",
    "summary"
   ]
  },
  {
   "cell_type": "code",
   "execution_count": 6,
   "metadata": {},
   "outputs": [],
   "source": [
    "prompt = f\"Faça um resumo de 20 linhas como se fosse um estudante que assistiu a uma palestra: {result['text']}\"\n",
    "# Basta inserir sua API-KEY do ChatGPT da OpenAI \n",
    "response = get_completion(prompt,\"API-KEY\")\n",
    "print(response)"
   ]
  },
  {
   "cell_type": "code",
   "execution_count": 8,
   "metadata": {},
   "outputs": [
    {
     "name": "stdout",
     "output_type": "stream",
     "text": [
      "Então talvez alguns de vocês já tenham até visto falar, porque tudo isso começou no final de agosto quando um japonês foi procurar a polícia lá em Nagoya, Nagoya que é uma das grandes cidades aqui do Japão, acho que é a quarta maior cidade aqui do Japão, inclusive tem muito brasileiro que mora lá, né? Porque na região de Aichi lá tem muita fábrica e tal, e aí um japonês foi procurar a polícia lá em Nagoya dizendo que estava preocupado com uma menina chamada Miku que ele tinha conhecido pelo Line, né? E aí esse cara falou lá na polícia que ele costumava conversar todo dia pelo Line com essa mina, até que do nada ela parou de responder e alguém mandou uma mensagem do celular dela para ele dizendo que a Miku foi sequestrada, tá ligado? Até aí já tá esquisito pra caralho, né? Tipo a mina foi sequestrada e aí a pessoa que sequestrou ela mandou uma mensagem pelo celular dela para um cara random que ela nem conhecia pessoalmente avisando, né? Porque não é possível um bagulho desse, então era muito provável que na verdade essa mina, a tal da Miku, estava aplicando golpe nos cabras, né? E foi só realmente se aprofundar um pouco no assunto para a polícia descobrir que realmente os dois caras tinham já transferido dinheiro para a mina, porque para os dois ela tinha contado a mesma história que ela estava passando por necessidade, que para conseguir pagar o aluguel ela estava cogitando aceitar a proposta de um conhecido dela, que segundo ela era um cara muito suspeito, um cara muito perigoso, que estava chamando ela para gravar um vídeo porno, tá ligado? Os nossos cavalheiros aí transferiram dinheiro para ela e logo depois que transferiram o dinheiro ela enviou essa mensagem aí dizendo que ela tinha sequestrado e bloqueou os caras, né? E aí a polícia foi atrás da tal da Miku e acharam ela lá, uma mina de 25 anos, não foi difícil de achar porque os caras tinham o telefone dela, né? E ela trabalhava lá numa loja de conveniência, sei lá, um bagulho tipo normal assim, uma mina full normal e fazendo essas paradas aí na internet, né? Ela confessou que estava mesmo aplicando esses golpes, que além desses dois caras ela já tinha conseguido dinheiro de vários outros, sempre com a mesma história e segundo ela, olha só, ela estava fazendo tudo isso seguindo as dicas de uma apostila online que ela tinha comprado alguns meses antes que ensinava como meninas jovens que nem ela podiam arrancar dinheiro de homens velhos e solitários na internet, tá ligado? E aí a polícia, lógico, quis dar uma olhada nesse tal manual e aí eles viram lá, realmente tinha todos os passos, inclusive ilustrados de como as mina tinha que agir para conseguir convencer os cabras a dar dinheiro para elas e tal. Então assim, na verdade a sacada é que elas nunca pedem dinheiro para o cara, tá ligado? Porque teoricamente, assim, teórica, de acordo com a teoria da apostila do golpe, a mina deveria continuar falando com o cara por um tempo ainda, depois de ter conseguido o dinheiro para não deixar ele nervoso ao ponto dele perceber que era um golpe, tá ligado? E aí eles chegaram até outra mina em Tóquio chamada Mai Watanabe, que além do manual ela fazia vídeos na internet ensinando as minas a aplicar esse tipo de golpe, né? Ela vendia cada manual por mais ou menos 10 mil ienes, que seria tipo uns 300 conto, e além disso ela própria aplicava o golpe nos cara para mostrar justamente que o bagulho dava certo, tá ligado? De ter descoberto esse método aí, de ter escrito esse manual do golpe aí, ela estava tipo se sentindo uma puta empreendedora, tá ligado? E aí, nesse vídeo aí de dois anos atrás dela sendo entrevistada pelo youtuber, ela disse na época que ela já tinha feito 200 milhões de ienes, que seria o equivalente a dois milhões de dólares, né? Só que aí mano, olha só que doideira, a polícia achou estranho que apesar dessa mina dizer que fazia milhões de dólares com esse tipo de golpe na internet, ainda vendia as apostilas e tudo mais, ela ainda morava num kitnet todo fodido aqui em Tóquio, tá ligado? E mesmo antes disso, já tinha um monte de gente que nem levava a sério esse bagulho de que ela fazia milhões de dólares com esse golpe aí, né? E aí aparentemente essa mina, né, a Mai que vendia, as apostilas, ela teria se apaixonado por um desses hosts, né? Foi recentemente inclusive o caso de uma mina que se apaixonou pelo host que ela contratava e aí quando ela viu ele atendendo outra mina, ela ficou com ciúmes e esfaqueou ele lá na saída do hotel. E aí, puxando o histórico das coisas, a polícia descobriu que na verdade o motivo pelo qual ela começou a aplicar esses golpes pra começo de conversa já foi pra sustentar o vício no host club, tá ligado? Porque a polícia encontrou no celular da mina várias conversas dela com o host e ele incentivando ela a aplicar o golpe nos cabras pra que ela conseguisse dinheiro pra poder sair com ele, tá ligado? E aí a mina usava todo o dinheiro dos golpes pra frequentar um estabelecimento que simula encontro, tá ligado? Todo mundo ali aplicando golpe, caindo em golpe, gastando dinheiro pra tentar suprir a solidão, tá ligado? E aí assim, o que dá pra deduzir disso, porque também isso também é comum aqui no Japão, tá ligado? Ou pra trabalhar, e aí eles ficam caçando esposa ou esposo aqui pra poder casar e pegar um visto permanente, tá ligado? Essa mina, a Mai, ela provavelmente fez isso, ela casou com um vietnamita, provavelmente cobrou uma boa grana dele pra casar e dar o visto pra ele, e essa grana ela muito provavelmente gastou no host club, tá ligado? É o bagulho, tipo assim, tá tomando proporções inacreditáveis, mano, tá pior que novela mexicana o bagulho, mano. Depois, a Mai já foi presa por vender o bagulho e aplicar o golpe também, e o host que a Mai era apaixonado, já são tipo os personagens da novela, tá ligado?\n"
     ]
    },
    {
     "name": "stderr",
     "output_type": "stream",
     "text": [
      "[nltk_data] Downloading package punkt to\n",
      "[nltk_data]     C:\\Users\\Windows\\AppData\\Roaming\\nltk_data...\n",
      "[nltk_data]   Package punkt is already up-to-date!\n",
      "[nltk_data] Downloading package stopwords to\n",
      "[nltk_data]     C:\\Users\\Windows\\AppData\\Roaming\\nltk_data...\n",
      "[nltk_data]   Package stopwords is already up-to-date!\n"
     ]
    }
   ],
   "source": [
    "# Formatando o resumo do texto\n",
    "import nltk\n",
    "from nltk.corpus import stopwords\n",
    "from nltk.tokenize import word_tokenize, sent_tokenize\n",
    "from nltk.probability import FreqDist\n",
    "from nltk.tokenize.treebank import TreebankWordDetokenizer\n",
    "\n",
    "# Baixar os recursos necessários do NLTK\n",
    "nltk.download('punkt')\n",
    "nltk.download('stopwords')\n",
    "\n",
    "def text_summarizer(text, ratio=0.2):\n",
    "    # Tokenizar o texto em frases\n",
    "    sentences = sent_tokenize(text)\n",
    "\n",
    "    # Tokenizar as palavras e remover stopwords\n",
    "    stop_words = set(stopwords.words(\"portuguese\"))\n",
    "    words = word_tokenize(text, language='portuguese')\n",
    "    filtered_words = [word.lower() for word in words if word.isalnum() and word.lower() not in stop_words]\n",
    "\n",
    "    # Calcular a frequência das palavras\n",
    "    fdist = FreqDist(filtered_words)\n",
    "\n",
    "    # Ordenar as frases com base na soma das frequências das palavras\n",
    "    ranking = {}\n",
    "    for i, sentence in enumerate(sentences):\n",
    "        for word in word_tokenize(sentence.lower(), language='portuguese'):\n",
    "            if word in fdist:\n",
    "                if i not in ranking:\n",
    "                    ranking[i] = fdist[word]\n",
    "                else:\n",
    "                    ranking[i] += fdist[word]\n",
    "\n",
    "    # Ordenar as frases pelo ranking\n",
    "    sorted_sentences = sorted(ranking, key=ranking.get, reverse=True)\n",
    "\n",
    "    # Selecionar as principais frases com base na taxa especificada\n",
    "    num_sentences = int(len(sentences) * ratio)\n",
    "    selected_sentences = sorted(sorted_sentences[:num_sentences])\n",
    "\n",
    "    # Reorganizar as frases na ordem original\n",
    "    summary = TreebankWordDetokenizer().detokenize([sentences[i] for i in sorted(selected_sentences)])\n",
    "\n",
    "    return summary\n",
    "\n",
    "resumo = text_summarizer(bulk_text)\n",
    "bulk_text = add_to_textfile(r\"content\\summary.txt\",resumo)\n",
    "print(resumo)"
   ]
  }
 ],
 "metadata": {
  "kernelspec": {
   "display_name": "Python 3",
   "language": "python",
   "name": "python3"
  },
  "language_info": {
   "codemirror_mode": {
    "name": "ipython",
    "version": 3
   },
   "file_extension": ".py",
   "mimetype": "text/x-python",
   "name": "python",
   "nbconvert_exporter": "python",
   "pygments_lexer": "ipython3",
   "version": "3.11.0"
  }
 },
 "nbformat": 4,
 "nbformat_minor": 2
}
